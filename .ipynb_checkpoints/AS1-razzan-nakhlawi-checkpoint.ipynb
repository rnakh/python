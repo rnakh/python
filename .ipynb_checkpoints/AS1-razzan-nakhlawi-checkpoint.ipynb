{
 "cells": [
  {
   "cell_type": "code",
   "execution_count": 5,
   "metadata": {},
   "outputs": [],
   "source": [
    "#creating five variables named after containers and making their values different kinds of fruit.\n",
    "baggie = \"bananas\"\n",
    "\n",
    "bathtub = \"berries\"\n",
    "\n",
    "crate = \"cantaloupes\"\n",
    "\n",
    "sockful = \"strawberries\"\n",
    "\n",
    "drawer = \"dates\""
   ]
  },
  {
   "cell_type": "code",
   "execution_count": 6,
   "metadata": {},
   "outputs": [
    {
     "name": "stdout",
     "output_type": "stream",
     "text": [
      "The baggie contains bananas\n"
     ]
    }
   ],
   "source": [
    "print \"The baggie contains \" + baggie"
   ]
  },
  {
   "cell_type": "code",
   "execution_count": 7,
   "metadata": {},
   "outputs": [
    {
     "name": "stdout",
     "output_type": "stream",
     "text": [
      "The bathtub contains berries\n"
     ]
    }
   ],
   "source": [
    "print \"The bathtub contains \" + bathtub"
   ]
  },
  {
   "cell_type": "code",
   "execution_count": 8,
   "metadata": {},
   "outputs": [
    {
     "name": "stdout",
     "output_type": "stream",
     "text": [
      "The crate contains cantaloupes\n"
     ]
    }
   ],
   "source": [
    "print \"The crate contains \" + crate"
   ]
  },
  {
   "cell_type": "code",
   "execution_count": 10,
   "metadata": {},
   "outputs": [
    {
     "name": "stdout",
     "output_type": "stream",
     "text": [
      "A sockful of strawberries\n"
     ]
    }
   ],
   "source": [
    "print \"A sockful of \" + sockful"
   ]
  },
  {
   "cell_type": "code",
   "execution_count": 11,
   "metadata": {},
   "outputs": [
    {
     "name": "stdout",
     "output_type": "stream",
     "text": [
      "A drawerful of dates\n"
     ]
    }
   ],
   "source": [
    "print \"A drawerful of \" + drawer"
   ]
  },
  {
   "cell_type": "code",
   "execution_count": 12,
   "metadata": {},
   "outputs": [],
   "source": [
    "sentence = 'Klavan said that producers have \"called my agent asking, \\'Why would you represent this guy?\\' Anything that lowers your odds is going to hurt.\"'"
   ]
  },
  {
   "cell_type": "code",
   "execution_count": 13,
   "metadata": {},
   "outputs": [
    {
     "name": "stdout",
     "output_type": "stream",
     "text": [
      "Klavan said that producers have \"called my agent asking, 'Why would you represent this guy?' Anything that lowers your odds is going to hurt.\"\n"
     ]
    }
   ],
   "source": [
    "print sentence"
   ]
  },
  {
   "cell_type": "code",
   "execution_count": 18,
   "metadata": {},
   "outputs": [],
   "source": [
    "presidents = ['Mugabe','Reagan','Duterte','Obama','Kennedy']"
   ]
  },
  {
   "cell_type": "code",
   "execution_count": 19,
   "metadata": {},
   "outputs": [
    {
     "name": "stdout",
     "output_type": "stream",
     "text": [
      "['Mugabe', 'Reagan', 'Duterte', 'Obama', 'Kennedy']\n"
     ]
    }
   ],
   "source": [
    "print presidents"
   ]
  },
  {
   "cell_type": "code",
   "execution_count": 20,
   "metadata": {},
   "outputs": [
    {
     "name": "stdout",
     "output_type": "stream",
     "text": [
      "Duterte\n"
     ]
    }
   ],
   "source": [
    "print presidents[2]"
   ]
  },
  {
   "cell_type": "code",
   "execution_count": 21,
   "metadata": {},
   "outputs": [],
   "source": [
    "birthyears = [1924, 1911, 1945, 1961, 1917]"
   ]
  },
  {
   "cell_type": "code",
   "execution_count": 22,
   "metadata": {},
   "outputs": [
    {
     "name": "stdout",
     "output_type": "stream",
     "text": [
      "[1924, 1911, 1945, 1961, 1917]\n"
     ]
    }
   ],
   "source": [
    "print birthyears"
   ]
  },
  {
   "cell_type": "code",
   "execution_count": 24,
   "metadata": {},
   "outputs": [
    {
     "name": "stdout",
     "output_type": "stream",
     "text": [
      "1917\n"
     ]
    }
   ],
   "source": [
    "print birthyears[4]"
   ]
  },
  {
   "cell_type": "code",
   "execution_count": 25,
   "metadata": {},
   "outputs": [],
   "source": [
    "pData = {\"Mugabe\":1924, \n",
    "         \"Reagan\":1911,\n",
    "         \"Duterte\":1945,\n",
    "         \"Obama\":1961,\n",
    "         \"Kennedy\":1917}"
   ]
  },
  {
   "cell_type": "code",
   "execution_count": 26,
   "metadata": {},
   "outputs": [
    {
     "name": "stdout",
     "output_type": "stream",
     "text": [
      "{'Duterte': 1945, 'Kennedy': 1917, 'Obama': 1961, 'Reagan': 1911, 'Mugabe': 1924}\n"
     ]
    }
   ],
   "source": [
    "print pData"
   ]
  },
  {
   "cell_type": "code",
   "execution_count": null,
   "metadata": {},
   "outputs": [],
   "source": []
  },
  {
   "cell_type": "code",
   "execution_count": null,
   "metadata": {},
   "outputs": [],
   "source": []
  }
 ],
 "metadata": {
  "kernelspec": {
   "display_name": "Python 2",
   "language": "python",
   "name": "python2"
  },
  "language_info": {
   "codemirror_mode": {
    "name": "ipython",
    "version": 2
   },
   "file_extension": ".py",
   "mimetype": "text/x-python",
   "name": "python",
   "nbconvert_exporter": "python",
   "pygments_lexer": "ipython2",
   "version": "2.7.14"
  }
 },
 "nbformat": 4,
 "nbformat_minor": 2
}
